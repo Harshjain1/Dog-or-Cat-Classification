{
 "cells": [
  {
   "cell_type": "code",
   "execution_count": null,
   "metadata": {},
   "outputs": [],
   "source": [
    "# Convolutional Neural Network\n",
    "\n",
    "# Installing Tensorflow\n",
    "# pip install tensorflow\n",
    "\n",
    "# Installing Keras\n",
    "# pip install --upgrade keras"
   ]
  },
  {
   "cell_type": "code",
   "execution_count": null,
   "metadata": {},
   "outputs": [],
   "source": [
    "# Part 1 - Building the CNN"
   ]
  },
  {
   "cell_type": "code",
   "execution_count": null,
   "metadata": {},
   "outputs": [],
   "source": [
    "# Importing the Keras libraries and packages\n",
    "from keras import backend as K\n",
    "K.tensorflow_backend._get_available_gpus()\n",
    "from keras.models import Sequential\n",
    "from keras.layers import Conv2D\n",
    "from keras.layers import MaxPooling2D\n",
    "from keras.layers import Flatten\n",
    "from keras.layers import Dense\n",
    "\n",
    "import PIL.Image"
   ]
  },
  {
   "cell_type": "code",
   "execution_count": null,
   "metadata": {},
   "outputs": [],
   "source": [
    "# Initialising the CNN\n",
    "classifier = Sequential()"
   ]
  },
  {
   "cell_type": "code",
   "execution_count": null,
   "metadata": {},
   "outputs": [],
   "source": [
    "# Step 1 - Convolution\n",
    "classifier.add(Conv2D(32, (3, 3), input_shape = (64, 64, 3), activation = 'relu'))"
   ]
  },
  {
   "cell_type": "code",
   "execution_count": null,
   "metadata": {},
   "outputs": [],
   "source": [
    "# Step 2 - Pooling\n",
    "classifier.add(MaxPooling2D(pool_size = (2, 2)))"
   ]
  },
  {
   "cell_type": "code",
   "execution_count": null,
   "metadata": {},
   "outputs": [],
   "source": [
    "# Adding a second convolutional layer\n",
    "classifier.add(Conv2D(32, (3, 3), activation = 'relu'))\n",
    "classifier.add(MaxPooling2D(pool_size = (2, 2)))"
   ]
  },
  {
   "cell_type": "code",
   "execution_count": null,
   "metadata": {},
   "outputs": [],
   "source": [
    "# Step 3 - Flattening\n",
    "classifier.add(Flatten())"
   ]
  },
  {
   "cell_type": "code",
   "execution_count": null,
   "metadata": {},
   "outputs": [],
   "source": [
    "# Step 4 - Full connection\n",
    "classifier.add(Dense(units = 128, activation = 'relu'))\n",
    "classifier.add(Dense(units = 1, activation = 'sigmoid'))"
   ]
  },
  {
   "cell_type": "code",
   "execution_count": null,
   "metadata": {},
   "outputs": [],
   "source": [
    "# Compiling the CNN\n",
    "classifier.compile(optimizer = 'adam', loss = 'binary_crossentropy', metrics = ['accuracy'])"
   ]
  },
  {
   "cell_type": "code",
   "execution_count": null,
   "metadata": {},
   "outputs": [],
   "source": [
    "# Part 2 - Fitting the CNN to the images"
   ]
  },
  {
   "cell_type": "code",
   "execution_count": null,
   "metadata": {},
   "outputs": [],
   "source": [
    "from keras.preprocessing.image import ImageDataGenerator"
   ]
  },
  {
   "cell_type": "code",
   "execution_count": null,
   "metadata": {},
   "outputs": [],
   "source": [
    "train_datagen = ImageDataGenerator(rescale = 1./255,\n",
    "                                   shear_range = 0.2,\n",
    "                                   zoom_range = 0.2,\n",
    "                                   horizontal_flip = True)"
   ]
  },
  {
   "cell_type": "code",
   "execution_count": null,
   "metadata": {},
   "outputs": [],
   "source": [
    "test_datagen = ImageDataGenerator(rescale = 1./255)"
   ]
  },
  {
   "cell_type": "code",
   "execution_count": null,
   "metadata": {},
   "outputs": [],
   "source": [
    "training_set = train_datagen.flow_from_directory('dataset/training_set',\n",
    "                                                 target_size = (64, 64),\n",
    "                                                 batch_size = 32,\n",
    "                                                 class_mode = 'unary')"
   ]
  },
  {
   "cell_type": "code",
   "execution_count": null,
   "metadata": {},
   "outputs": [],
   "source": [
    "test_set = test_datagen.flow_from_directory('dataset/test_set',\n",
    "                                            target_size = (64, 64),\n",
    "                                            batch_size = 32,\n",
    "                                            class_mode = 'binary')"
   ]
  },
  {
   "cell_type": "code",
   "execution_count": 1,
   "metadata": {},
   "outputs": [
    {
     "name": "stderr",
     "output_type": "stream",
     "text": [
      "Using TensorFlow backend.\n"
     ]
    },
    {
     "name": "stdout",
     "output_type": "stream",
     "text": [
      "Found 8000 images belonging to 2 classes.\n",
      "Found 2000 images belonging to 2 classes.\n",
      "Epoch 1/25\n",
      "4000/4000 [==============================] - 976s 244ms/step - loss: 0.4860 - acc: 0.7535 - val_loss: 0.4975 - val_acc: 0.7731\n",
      "Epoch 2/25\n",
      "4000/4000 [==============================] - 700s 175ms/step - loss: 0.2646 - acc: 0.8875 - val_loss: 0.6072 - val_acc: 0.7853\n",
      "Epoch 3/25\n",
      "4000/4000 [==============================] - 702s 175ms/step - loss: 0.1523 - acc: 0.9399 - val_loss: 0.8221 - val_acc: 0.7823\n",
      "Epoch 4/25\n",
      "4000/4000 [==============================] - 699s 175ms/step - loss: 0.0964 - acc: 0.9640 - val_loss: 0.9106 - val_acc: 0.7831\n",
      "Epoch 5/25\n",
      "4000/4000 [==============================] - 788s 197ms/step - loss: 0.0714 - acc: 0.9740 - val_loss: 1.0632 - val_acc: 0.7974\n",
      "Epoch 6/25\n",
      "4000/4000 [==============================] - 786s 197ms/step - loss: 0.0592 - acc: 0.9789 - val_loss: 1.2113 - val_acc: 0.7803\n",
      "Epoch 7/25\n",
      "4000/4000 [==============================] - 751s 188ms/step - loss: 0.0493 - acc: 0.9829 - val_loss: 1.1499 - val_acc: 0.7937\n",
      "Epoch 8/25\n",
      "4000/4000 [==============================] - 706s 176ms/step - loss: 0.0450 - acc: 0.9838 - val_loss: 1.4246 - val_acc: 0.7786\n",
      "Epoch 9/25\n",
      "4000/4000 [==============================] - 751s 188ms/step - loss: 0.0391 - acc: 0.9864 - val_loss: 1.3115 - val_acc: 0.8018\n",
      "Epoch 10/25\n",
      "4000/4000 [==============================] - 751s 188ms/step - loss: 0.0340 - acc: 0.9880 - val_loss: 1.2488 - val_acc: 0.7875\n",
      "Epoch 11/25\n",
      "4000/4000 [==============================] - 732s 183ms/step - loss: 0.0327 - acc: 0.9889 - val_loss: 1.4153 - val_acc: 0.7878\n",
      "Epoch 12/25\n",
      "4000/4000 [==============================] - 696s 174ms/step - loss: 0.0299 - acc: 0.9900 - val_loss: 1.4170 - val_acc: 0.7963\n",
      "Epoch 13/25\n",
      "4000/4000 [==============================] - 774s 193ms/step - loss: 0.0287 - acc: 0.9901 - val_loss: 1.5017 - val_acc: 0.7931\n",
      "Epoch 14/25\n",
      "4000/4000 [==============================] - 768s 192ms/step - loss: 0.0270 - acc: 0.9908 - val_loss: 1.4356 - val_acc: 0.7950\n",
      "Epoch 15/25\n",
      "4000/4000 [==============================] - 716s 179ms/step - loss: 0.0245 - acc: 0.9919 - val_loss: 1.5327 - val_acc: 0.7818\n",
      "Epoch 16/25\n",
      "4000/4000 [==============================] - 770s 192ms/step - loss: 0.0232 - acc: 0.9925 - val_loss: 1.4360 - val_acc: 0.7977\n",
      "Epoch 17/25\n",
      "4000/4000 [==============================] - 738s 185ms/step - loss: 0.0232 - acc: 0.9924 - val_loss: 1.5238 - val_acc: 0.7942\n",
      "Epoch 18/25\n",
      "4000/4000 [==============================] - 720s 180ms/step - loss: 0.0208 - acc: 0.9931 - val_loss: 1.4811 - val_acc: 0.7892\n",
      "Epoch 19/25\n",
      "4000/4000 [==============================] - 769s 192ms/step - loss: 0.0197 - acc: 0.9933 - val_loss: 1.4855 - val_acc: 0.8033\n",
      "Epoch 20/25\n",
      "4000/4000 [==============================] - 855s 214ms/step - loss: 0.0197 - acc: 0.9939 - val_loss: 1.4515 - val_acc: 0.7964\n",
      "Epoch 21/25\n",
      "4000/4000 [==============================] - 715s 179ms/step - loss: 0.0182 - acc: 0.9941 - val_loss: 1.4099 - val_acc: 0.7946\n",
      "Epoch 22/25\n",
      "4000/4000 [==============================] - 710s 178ms/step - loss: 0.0182 - acc: 0.9940 - val_loss: 1.4217 - val_acc: 0.8034\n",
      "Epoch 23/25\n",
      "4000/4000 [==============================] - 710s 178ms/step - loss: 0.0158 - acc: 0.9950 - val_loss: 1.6384 - val_acc: 0.7945\n",
      "Epoch 24/25\n",
      "4000/4000 [==============================] - 721s 180ms/step - loss: 0.0166 - acc: 0.9946 - val_loss: 1.8676 - val_acc: 0.7878\n",
      "Epoch 25/25\n",
      "4000/4000 [==============================] - 707s 177ms/step - loss: 0.0162 - acc: 0.9948 - val_loss: 1.7064 - val_acc: 0.7935\n",
      "training done \n",
      "{'cats': 0, 'dogs': 1}\n",
      "cat\n",
      "{'cats': 0, 'dogs': 1}\n",
      "dog\n"
     ]
    }
   ],
   "source": [
    "classifier.fit_generator(training_set,steps_per_epoch = 4000,epochs = 25,validation_data = test_set,validation_steps = 1000,)\n",
    "\n",
    "print(\"training done \")\n",
    "\n",
    "# Part 3 - Testing\n",
    "\n",
    "import numpy as np\n",
    "from keras.preprocessing import image\n",
    "test_image = image.load_img('dataset/single_prediction/cat.jpg', target_size = (64, 64))\n",
    "test_image = image.img_to_array(test_image)\n",
    "test_image = np.expand_dims(test_image, axis = 0)\n",
    "result = classifier.predict(test_image)\n",
    "print(training_set.class_indices)\n",
    "if result[0][0] == 1:\n",
    "    print('dog')\n",
    "else:\n",
    "    print('cat')\n",
    "test_image = image.load_img('dataset/single_prediction/dog.jpg', target_size = (64, 64))\n",
    "test_image = image.img_to_array(test_image)\n",
    "test_image = np.expand_dims(test_image, axis = 0)\n",
    "result = classifier.predict(test_image)\n",
    "print(training_set.class_indices)\n",
    "if result[0][0] == 1:\n",
    "    print('dog')\n",
    "else:\n",
    "    print('cat')\n",
    "\n",
    "    "
   ]
  },
  {
   "cell_type": "code",
   "execution_count": 6,
   "metadata": {},
   "outputs": [
    {
     "name": "stdout",
     "output_type": "stream",
     "text": [
      "Saved model to disk............\n"
     ]
    }
   ],
   "source": [
    "classifier.save(\"classifier.h5c\")\n",
    "classifier.save(\"classifier.h5\")\n",
    "print(\"Saved model to disk............\")"
   ]
  },
  {
   "cell_type": "code",
   "execution_count": null,
   "metadata": {},
   "outputs": [],
   "source": []
  },
  {
   "cell_type": "code",
   "execution_count": null,
   "metadata": {},
   "outputs": [],
   "source": []
  }
 ],
 "metadata": {
  "kernelspec": {
   "display_name": "Python 3",
   "language": "python",
   "name": "python3"
  },
  "language_info": {
   "codemirror_mode": {
    "name": "ipython",
    "version": 3
   },
   "file_extension": ".py",
   "mimetype": "text/x-python",
   "name": "python",
   "nbconvert_exporter": "python",
   "pygments_lexer": "ipython3",
   "version": "3.7.1"
  }
 },
 "nbformat": 4,
 "nbformat_minor": 2
}
